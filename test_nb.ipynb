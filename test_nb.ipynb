{
 "cells": [
  {
   "cell_type": "code",
   "execution_count": 1,
   "metadata": {},
   "outputs": [],
   "source": [
    "import numpy as np\n",
    "from utils.model_utils import S\n",
    "from utils.test_utils import l2_scale, generate_data\n",
    "from scipy.optimize import minimize_scalar\n",
    "from utils.model_utils import descent_cycle"
   ]
  },
  {
   "cell_type": "code",
   "execution_count": 2,
   "metadata": {},
   "outputs": [],
   "source": [
    "X, y, beta_true, bias_true = generate_data(n = 20, p = 5)\n",
    "X_l2 = l2_scale(X)\n",
    "beta_true, bias_true\n",
    "lambda1 = 0.1\n",
    "lambda2 = 0.01"
   ]
  },
  {
   "cell_type": "code",
   "execution_count": 3,
   "metadata": {},
   "outputs": [
    {
     "name": "stdout",
     "output_type": "stream",
     "text": [
      "intervals: [[-10000000000.0, 0], [0, np.float64(0.0)], [np.float64(0.0), 10000000000.0]]\n",
      "intervals: [[-10000000000.0, 0], [0, np.float64(0.0)], [np.float64(0.0), np.float64(756.2103691778004)], [np.float64(756.2103691778004), 10000000000.0]]\n",
      "intervals: [[-10000000000.0, 0], [0, np.float64(0.0)], [np.float64(0.0), np.float64(808.4685449419183)], [np.float64(808.4685449419183), 10000000000.0]]\n",
      "intervals: [[-10000000000.0, 0], [0, np.float64(0.0)], [np.float64(0.0), np.float64(819.6822734407976)], [np.float64(819.6822734407976), 10000000000.0]]\n",
      "intervals: [[-10000000000.0, 0], [0, np.float64(1089.8783873429813)], [np.float64(1089.8783873429813), 10000000000.0]]\n",
      "intervals: [[-10000000000.0, 0], [0, np.float64(808.4685449419183)], [np.float64(808.4685449419183), 10000000000.0]]\n",
      "intervals: [[-10000000000.0, 0], [0, np.float64(756.2303691778)], [np.float64(756.2303691778), np.float64(819.6822734407976)], [np.float64(819.6822734407976), 10000000000.0]]\n",
      "intervals: [[-10000000000.0, 0], [0, np.float64(808.4885449419181)], [np.float64(808.4885449419181), np.float64(1089.8783873429813)], [np.float64(1089.8783873429813), 10000000000.0]]\n",
      "intervals: [[-10000000000.0, 0], [0, np.float64(819.7022734407976)], [np.float64(819.7022734407976), np.float64(926.9420187421804)], [np.float64(926.9420187421804), 10000000000.0]]\n",
      "intervals: [[-10000000000.0, 0], [0, np.float64(1089.8783873429813)], [np.float64(1089.8783873429813), 10000000000.0]]\n",
      "intervals: [[-10000000000.0, 0], [0, np.float64(808.4885449419181)], [np.float64(808.4885449419181), 10000000000.0]]\n",
      "intervals: [[-10000000000.0, 0], [0, np.float64(756.2303691778)], [np.float64(756.2303691778), np.float64(819.7022734407976)], [np.float64(819.7022734407976), 10000000000.0]]\n",
      "intervals: [[-10000000000.0, 0], [0, np.float64(808.4885449419181)], [np.float64(808.4885449419181), np.float64(1089.8783873429813)], [np.float64(1089.8783873429813), 10000000000.0]]\n",
      "intervals: [[-10000000000.0, 0], [0, np.float64(819.7022734407976)], [np.float64(819.7022734407976), np.float64(926.9420187421804)], [np.float64(926.9420187421804), 10000000000.0]]\n",
      "intervals: [[-10000000000.0, 0], [0, np.float64(1089.8783873429813)], [np.float64(1089.8783873429813), 10000000000.0]]\n"
     ]
    },
    {
     "data": {
      "text/plain": [
       "array([ 756.23036918,  808.48854494,  819.70227344, 1089.87838734,\n",
       "        926.94201874])"
      ]
     },
     "execution_count": 3,
     "metadata": {},
     "output_type": "execute_result"
    }
   ],
   "source": [
    "descent_cycle(len(beta_true), y, lambda1, lambda2)"
   ]
  },
  {
   "cell_type": "code",
   "execution_count": null,
   "metadata": {},
   "outputs": [],
   "source": []
  }
 ],
 "metadata": {
  "kernelspec": {
   "display_name": "Python 3",
   "language": "python",
   "name": "python3"
  },
  "language_info": {
   "codemirror_mode": {
    "name": "ipython",
    "version": 3
   },
   "file_extension": ".py",
   "mimetype": "text/x-python",
   "name": "python",
   "nbconvert_exporter": "python",
   "pygments_lexer": "ipython3",
   "version": "3.12.6"
  }
 },
 "nbformat": 4,
 "nbformat_minor": 2
}
